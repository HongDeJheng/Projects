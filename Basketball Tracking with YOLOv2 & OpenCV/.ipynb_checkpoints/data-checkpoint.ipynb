{
 "cells": [
  {
   "cell_type": "code",
   "execution_count": 6,
   "metadata": {},
   "outputs": [],
   "source": [
    "import os \n",
    "import numpy as np\n",
    "import cv2\n",
    "import matplotlib.pyplot as plt"
   ]
  },
  {
   "cell_type": "code",
   "execution_count": 5,
   "metadata": {},
   "outputs": [],
   "source": [
    "from xml.etree.ElementTree import parse,Element\n",
    "\n",
    "path = 'Hoop/label/'\n",
    "for xml in os.listdir(path):\n",
    "    file_num = int(xml.split(\"_\")[1].split(\".\")[0])\n",
    "    doc = parse(path + xml)\n",
    "    root = doc.getroot()\n",
    "    root[0].text = 'image-cedl'\n",
    "    root[1].text = 'train_%d.png' % file_num\n",
    "    root[2].text = '/data/VSLab/howard/Hoop/image-cedl/train_%d.png' % file_num\n",
    "    doc.write('Hoop/label-cedl/train_%d.xml' % file_num)"
   ]
  },
  {
   "cell_type": "code",
   "execution_count": null,
   "metadata": {},
   "outputs": [],
   "source": [
    "load_path = 'Hoop/images/'\n",
    "#save_path = 'images/'\n",
    "i = 1\n",
    "for data in os.listdir(load_path):\n",
    "    #print(data)\n",
    "    if(data != \"desktop.ini\"):\n",
    "        img = cv2.imdecode(np.fromfile((load_path + data), dtype = np.uint8), cv2.IMREAD_COLOR)\n",
    "        if(type(img) != \"<class 'numpy.ndarray'>\"):\n",
    "            print(data)\n",
    "            print(type(img))\n",
    "        #img = cv2.cvtColor(img, cv2.COLOR_BGR2RGB)\n",
    "        #crop = img[200:900, 2200:3520]\n",
    "        #if(i == 1):\n",
    "        #    plt.figure()\n",
    "        #    plt.imshow(img)\n",
    "        #    plt.figure()\n",
    "        #    plt.imshow(crop)\n",
    "        #name = save_path + \"train_%d.png\" % i\n",
    "        #cv2.imwrite(name, crop)\n",
    "        i += 1"
   ]
  },
  {
   "cell_type": "code",
   "execution_count": null,
   "metadata": {},
   "outputs": [],
   "source": []
  },
  {
   "cell_type": "code",
   "execution_count": null,
   "metadata": {},
   "outputs": [],
   "source": []
  }
 ],
 "metadata": {
  "kernelspec": {
   "display_name": "Python 3",
   "language": "python",
   "name": "python3"
  },
  "language_info": {
   "codemirror_mode": {
    "name": "ipython",
    "version": 3
   },
   "file_extension": ".py",
   "mimetype": "text/x-python",
   "name": "python",
   "nbconvert_exporter": "python",
   "pygments_lexer": "ipython3",
   "version": "3.6.8"
  }
 },
 "nbformat": 4,
 "nbformat_minor": 2
}
