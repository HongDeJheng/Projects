{
 "cells": [
  {
   "cell_type": "code",
   "execution_count": 5,
   "metadata": {},
   "outputs": [
    {
     "name": "stdout",
     "output_type": "stream",
     "text": [
      "Size of Aut =  32136\n",
      "Size of Des =  648997\n",
      "Size of Dir =  57315\n",
      "Size of Kno =  45941\n",
      "Size of Lan =  10628\n",
      "Size of Pho =  110627\n",
      "Size of Tit =  41358\n",
      "Size of Wee =  1307182\n"
     ]
    }
   ],
   "source": [
    "import json\n",
    "\n",
    "with open('Author.json') as file:\n",
    "    Aut = json.load(file)\n",
    "    \n",
    "with open('Description.json') as file:\n",
    "    Des = json.load(file)\n",
    "    \n",
    "with open('DirectLink.json') as file:\n",
    "    Dir = json.load(file)\n",
    "    \n",
    "with open('Knowledge.json') as file:\n",
    "    Kno = json.load(file)\n",
    "\n",
    "with open('Language.json') as file:\n",
    "    Lan = json.load(file)\n",
    "\n",
    "with open('PhotoLink.json') as file:\n",
    "    Pho = json.load(file)\n",
    "    \n",
    "with open('Provider.json') as file:\n",
    "    Pro = json.load(file)\n",
    "    \n",
    "with open('Title.json') as file:\n",
    "    Tit = json.load(file)\n",
    "    \n",
    "with open('WeekSection.json') as file:\n",
    "    Wee = json.load(file)\n",
    "    \n",
    "print(\"Size of Aut = \", len(Aut))\n",
    "print(\"Size of Des = \", len(Des))\n",
    "print(\"Size of Dir = \", len(Dir))\n",
    "print(\"Size of Kno = \", len(Kno))\n",
    "print(\"Size of Lan = \", len(Lan))\n",
    "print(\"Size of Pho = \", len(Pho))\n",
    "print(\"Size of Tit = \", len(Tit))\n",
    "print(\"Size of Wee = \", len(Wee))"
   ]
  },
  {
   "cell_type": "code",
   "execution_count": null,
   "metadata": {},
   "outputs": [],
   "source": []
  }
 ],
 "metadata": {
  "kernelspec": {
   "display_name": "Python 3",
   "language": "python",
   "name": "python3"
  },
  "language_info": {
   "codemirror_mode": {
    "name": "ipython",
    "version": 3
   },
   "file_extension": ".py",
   "mimetype": "text/x-python",
   "name": "python",
   "nbconvert_exporter": "python",
   "pygments_lexer": "ipython3",
   "version": "3.7.5"
  }
 },
 "nbformat": 4,
 "nbformat_minor": 2
}
