{
 "cells": [
  {
   "cell_type": "markdown",
   "metadata": {},
   "source": [
    "# 找出json檔中有什麼項目"
   ]
  },
  {
   "cell_type": "code",
   "execution_count": 2,
   "metadata": {},
   "outputs": [
    {
     "name": "stdout",
     "output_type": "stream",
     "text": [
      "Author\n",
      "Description\n",
      "DirectLink\n",
      "Language\n",
      "PhotoLink\n",
      "Provider\n",
      "Title\n",
      "WeekSection\n",
      "Knowledge\n"
     ]
    }
   ],
   "source": [
    "import json\n",
    "file = open('adb_courses.json')\n",
    "json_str = file.read()\n",
    "json_data = json.loads(json_str)\n",
    "for key in json_data.keys():\n",
    "  print(key)"
   ]
  },
  {
   "cell_type": "markdown",
   "metadata": {},
   "source": [
    "# 個別分割json檔(分割為各個類別檔案)"
   ]
  },
  {
   "cell_type": "code",
   "execution_count": 3,
   "metadata": {},
   "outputs": [
    {
     "name": "stdout",
     "output_type": "stream",
     "text": [
      "finish Author.json\n",
      "finish Description.json\n",
      "finish DirectLink.json\n",
      "finish Language.json\n",
      "finish PhotoLink.json\n",
      "finish Provider.json\n",
      "finish Title.json\n",
      "finish WeekSection.json\n",
      "finish Knowledge.json\n"
     ]
    }
   ],
   "source": [
    "for key in json_data.keys():\n",
    "    data = json.dumps(json_data[key])\n",
    "    with open(key+'.json', 'w', encoding='utf-8') as f:\n",
    "        json.dump(data, f, ensure_ascii=False, indent=4)\n",
    "        print(\"finish \"+key+\".json\")\n",
    "#for values in json_data.values():\n",
    "#  print(values)\n",
    "#json_data = json.dumps(data)"
   ]
  },
  {
   "cell_type": "markdown",
   "metadata": {},
   "source": [
    "# 測試分割檔案狀況 "
   ]
  },
  {
   "cell_type": "code",
   "execution_count": 16,
   "metadata": {},
   "outputs": [
    {
     "name": "stdout",
     "output_type": "stream",
     "text": [
      "{\"0\": [\"Andrew Ng\"], \"1\": [\"ZHANG Li\"], \"10\": [\"Jeff Leek, PhD\"], \"100\": [\"Google Cloud Training\"], \"101\": [\"Dan  Grossman\"], \"102\": [\"ZHANG Li\"], \"103\": [\"Dan  Grossman\"], \"104\": [\"Vivek Sarkar\"], \"105\": [\"P. Brighten Godfrey\", \"Ankit Singla\"], \"106\": [\"Juan H Klopper\"], \"107\": [\"Christine Alvarado\", \"Mia Minnes\", \"Leo Porter\"], \"108\": [\"Justin-Nicholas Toyama \", \"Frank Ayars \", \"Ralf Brockhaus \"], \"109\": [\"Tim Roughgarden\"], \"11\": [\"Sadie St. Lawrence\"], \"110\": [\"Daniel Lakens\"], \"111\": [\"Joe Warren\", \"Scott Rixner\", \"John Greiner\", \"Stephen Wong\"], \"112\": [\"Vivek Sarkar\"], \"113\": [\"Roy H. Campbell\", \"Reza Farivar\"], \"114\": [\"Michael Mannino\"], \"115\": [\"Amarnath Gupta\"], \"116\": [\"Parham Aarabi\"], \"117\": [\"Jennifer Campbell\", \"Paul Gries\"], \"118\": [\"Ilkay Altintas\", \"Amarnath Gupta\"], \"119\": [\"Google Cloud Training\"], \"12\": [\"Daniel Egger\", \"Paul Bendich\"], \"120\": [\"Kenny Wong\"], \"121\": [\"Jogesh K. Muppala\"], \"122\": [\"Indranil Gupta\"], \"123\": [\"Luay Nakhleh\", \"Scott Rixner\", \"Joe Warren\"], \"124\": [\"Kiran Chittargi\"], \"125\": [\"Ira Pohl\"], \"126\": [\"Andrey Vladimirov\"], \"127\": [\"Samuel J. Cooper\", \"David Dye\", \"A.\\u00a0Freddie Page\"], \"128\": [\"Bill Boyd\"], \"129\": [\"Ira Pohl\"], \"13\": [\"Mihaela Pertea, PhD\", \"Steven Salzberg, PhD\"], \"130\": [\" Dr Sorrel Harriet\", \"Christophe Rhodes\"], \"131\": [\"Tim Roughgarden\"], \"132\": [\"Andrew D. Hilton\", \"Genevieve M. Lipp\", \"Anne Bracy\"], \"133\": [\"Prof. Viktor Kuncak\", \"Dr. Aleksandar Prokopec\"], \"134\": [\"Martin Timmerman\", \"Maarten Weyn\"], \"135\": [\"Dr Matthew Yee-King\"], \"136\": [\"Scott Rixner\", \"Joe Warren\"], \"137\": [\"David Dye\", \"Samuel J. Cooper\", \"A.\\u00a0Freddie Page\"], \"138\": [\"Charles Severance\"], \"139\": [\"Ian Harris\"], \"14\": [\"Alex Aklson\"], \"140\": [\"Steve Byrnes\"], \"141\": [\"Alex Mannella\"], \"142\": [\"Charles Severance\"], \"143\": [\"Carlos Guestrin\", \"Emily Fox\"], \"144\": [\"Dr. Tim \\\"Dr. T\\\" Chamillard\"], \"145\": [\"Indranil Gupta\"], \"146\": [\"Dr. Heather Miller\"], \"147\": [\"Xavier Serra\", \"Prof Julius O Smith, III\"], \"148\": [\"Robert Sedgewick\"], \"149\": [\"Luay Nakhleh\", \"Scott Rixner\", \"Joe Warren\"], \"15\": [\"Christopher Brooks\"], \"150\": [\"Dr. Tim \\\"Dr. T\\\" Chamillard\"], \"151\": [\"Dr. Tim \\\"Dr. T\\\" Chamillard\"], \"152\": [\"Don Patterson\", \"Sam Kaufman\"], \"153\": [\"Charles Severance\"], \"154\": [\"Mai Nguyen\", \"Ilkay Altintas\"], \"155\": [\"Lisa Dierker\"], \"156\": [\"Ian Harris\"], \"157\": [\"Natasha Balac\", \"Paul Rodriguez\", \"Andrea Zonca\"], \"158\": [\"Dr Areti Manataki\", \"In\\u00e9s Friss de Kereki\"], \"159\": [\"Google Cloud Training\"], \"16\": [\"Joon Heo\"], \"160\": [\"Alexander S. Kulikov\", \"Michael Levin\", \"Daniel M Kane\", \"Neil Rhodes\"], \"161\": [\"Evgeny Sokolov\", \"Andrei Zimovnov\", \"Alexander Panin\", \"Ekaterina Lobacheva\", \"Nikita Kazeev\"], \"162\": [\"Dr. Magnus Egerstedt\"], \"163\": [\"Scott Rixner\", \"Joe Warren\"], \"164\": [\"Tim Roughgarden\"], \"165\": [\"Chirag Shah\"], \"166\": [\"Manuel Laguna\"], \"167\": [\"Google Cloud Training\"], \"168\": [\"Marc P. Deisenroth\"], \"169\": [\"Suk S. Brar, M.B.A.\", \"Govind Acharya\"], \"17\": [\"Romeo Kienzler\"], \"170\": [\"John C. Hart\"], \"171\": [\"Google Cloud Training\"], \"172\": [\"ChengXiang Zhai\"], \"173\": [\"Jiawei Han\"], \"174\": [\"Jiawei Han\"], \"175\": [\"Philip Hans Franses\", \"Christiaan Heij\", \"Michel van der Wel\", \"Dennis Fok\", \"Richard Paap\", \"Dick van Dijk \", \"Erik Kole\", \"Francine Gresnigt\", \"Myrthe van Dieijen\"], \"176\": [\"Andrew Ng\", \"Head Teaching Assistant - Kian Katanforoosh\", \"Teaching Assistant - Younes Bensouda Mourri\"], \"177\": [\"Karl Schmedders\"], \"178\": [\"Annemarie Zand Scholten\", \"Emiel van Loon\"], \"179\": [\"Richard Valliant, Ph.D.\"], \"18\": [\"Pavel  Pevzner\", \"Phillip Compeau\"], \"180\": [\"Joseph A Konstan\", \"Michael D. Ekstrand\"], \"181\": [\"Dr. Elizabeth Sweeney \", \"Ciprian M. Crainiceanu\", \"John Muschelli III \"], \"182\": [\"Pavel Shvechikov\", \"Alexander Panin\"], \"183\": [\"Emily Fox\", \"Carlos Guestrin\"], \"184\": [\"Jen Rose\", \"Lisa Dierker\"], \"185\": [\"Jen Rose\", \"Lisa Dierker\"], \"186\": [\"Jen Rose\", \"Lisa Dierker\"], \"187\": [\"Ilkay Altintas\", \"Amarnath Gupta\"], \"188\": [\"Dr Matthew Yee-King\", \"Dr James Ohene-Djan\"], \"189\": [\"Andrew Ng\", \"Head Teaching Assistant - Kian Katanforoosh\", \"Teaching Assistant - Younes Bensouda Mourri\"], \"19\": [\"Polong Lin\"], \"190\": [\"Robert Duvall\", \"Owen Astrachan\", \"Andrew D. Hilton\", \"Susan H. Rodger\"], \"191\": [\"Google Cloud Training\"], \"192\": [\"Andrew Ng\", \"Head Teaching Assistant - Kian Katanforoosh\", \"Teaching Assistant - Younes Bensouda Mourri\"], \"193\": [\"Andrew Ng\", \"Head Teaching Assistant - Kian Katanforoosh\", \"Teaching Assistant - Younes Bensouda Mourri\"], \"194\": [\"Andrew Ng\", \"Head Teaching Assistant - Kian Katanforoosh\", \"Teaching Assistant - Younes Bensouda Mourri\"], \"195\": [\"Jiawei Han\", \"ChengXiang Zhai\", \"John C. Hart\"], \"196\": [\"Google Cloud Training\"], \"197\": [\"Geoffrey Hinton\"], \"198\": [\"Dr Yvonne Breyer\"], \"199\": [\"Susan H. Rodger\", \"Robert Duvall\", \"Owen Astrachan\", \"Andrew D. Hilton\"], \"2\": [\"Jeff Leek, PhD\", \"Brian Caffo, PhD\", \"Roger D. Peng, PhD\"], \"20\": [\"Dr Areti Manataki\", \"Dr Frances Wong\"], \"200\": [\"Charles Severance\"], \"201\": [\"Mine \\u00c7etinkaya-Rundel\"], \"202\": [\"Carlos Guestrin\", \"Emily Fox\"], \"203\": [\"Dr. Virginie Galtier\", \"Michel Ianotto \"], \"204\": [\"Anna Potapenko\", \"Alexey Zobnin\", \"Anna Kozlova\", \"Sergey Yudin\", \"Andrei Zimovnov\"], \"205\": [\"Google\"], \"206\": [\"Matthijs Rooduijn\", \"Emiel van Loon\"], \"207\": [\"Colleen van Lent, Ph.D.\", \"Charles Severance\"], \"208\": [\"Anton Konushin\", \"Alexey Artemov\"], \"209\": [\"Sharad Borle\"], \"21\": [\"Brian Caffo, PhD\"], \"210\": [\"Herbert Lee\"], \"211\": [\"Richard Waterman\"], \"212\": [\"Aggelos K. Katsaggelos\"], \"213\": [\"Daniel Egger\", \"Jana Schaich Borg\"], \"214\": [\"Daniil Polykovskiy\", \"Alexander Novikov\"], \"215\": [\"Tural Sadigov\", \"William Thistleton\"], \"216\": [\"Google Cloud Training\"], \"217\": [\"Pavel  Pevzner\", \"Phillip Compeau\"], \"218\": [\"Daniel Randall\"], \"219\": [\"Scott Rixner\", \"Joe Warren\"], \"22\": [\"Brian Caffo, PhD\"], \"220\": [\"Ivan Puzyrevskiy\", \"Emeli Dral \", \"Evgeniy Riabenko\", \"Alexey A. Dral\"], \"221\": [\"Daniel Egger\", \"Jana Schaich Borg\"], \"222\": [\"Google Cloud Training\"], \"223\": [\"Mine \\u00c7etinkaya-Rundel\"], \"224\": [\"Google Cloud Training\"], \"225\": [\"Rajesh P. N. Rao\", \"Adrienne Fairhall\"], \"226\": [\"Brian Innes\", \"Yianna Papadakis Kantos\"], \"227\": [\"Vijay Kumar\"], \"228\": [\"Christine Alvarado\", \"Mia Minnes\", \"Leo Porter\"], \"229\": [\"Hsuan-Tien Lin, \\u6797\\u8ed2\\u7530\"], \"23\": [\"Dmitry Ulyanov\", \"Alexander Guschin\", \"Mikhail Trofimov\", \"Dmitry Altukhov\", \"Marios Michailidis\"], \"230\": [\"Dr Matthew Yee-King\", \"Dr Marco Gillies\", \"Dr Kate Devlin\"], \"231\": [\"Colleen van Lent, Ph.D.\", \"Charles Severance\"], \"232\": [\"\\u0410\\u043b\\u0435\\u043a\\u0441\\u0435\\u0439 \\u041f\\u0435\\u0440\\u0435\\u043f\\u0435\\u043b\\u043a\\u0438\\u043d\", \"\\u0414\\u043c\\u0438\\u0442\\u0440\\u0438\\u0439 \\u0421\\u0430\\u0432\\u0438\\u0446\\u043a\\u0438\\u0439\"], \"233\": [\"Mine \\u00c7etinkaya-Rundel\"], \"234\": [\"Emily Fox\", \"Carlos Guestrin\"], \"235\": [\"Mine \\u00c7etinkaya-Rundel\", \"David Banks\", \"Colin Rundel \", \"Merlise A Clyde\"], \"236\": [\"Norberto Leite\", \"Kirby Kohlmorgen\", \"Shannon Bradshaw\"], \"237\": [\"Colleen van Lent, Ph.D.\", \"Charles Severance\"], \"238\": [\"Andres Rodriguez\", \"Nikhil Murthy \", \"Hanlin Tang\"], \"239\": [\"Dr. Douglas C. Schmidt\", \"Michael Walker\", \"Dr. C. Jules White\"], \"24\": [\"Bill Howe\"], \"240\": [\"Google Cloud Training\"], \"241\": [\"Matthew Heiner\"], \"242\": [\"Kevin Lynch\"], \"243\": [\"Professor Pascal Van Hentenryck\", \"Dr. Carleton Coffrin\"], \"244\": [\"Google Cloud Training\"], \"245\": [\"Dr. Tucker Balch\"], \"246\": [\"Google Cloud Training\"], \"247\": [\"Alexander S. Kulikov\", \"Michael Levin\", \"Daniel M Kane\", \"Neil Rhodes\"], \"248\": [\"Jong-Moon Chung\"], \"249\": [\"Natalia Pritykovskaya\", \"Pavel Klemenkov\", \"Pavel Mezentsev \", \"Alexey A. Dral\"], \"25\": [\"Wil van der Aalst\"], \"250\": [\"Vivek Sarkar\"], \"251\": [\"James Shackelford\"], \"252\": [\"Greg Heileman\", \"Manel Mart\\u00ednez-Ram\\u00f3n\"], \"253\": [\"Bastien Chopard\", \"Jean-Luc Falcone\", \"Jonas Latt\", \"Orestis Malaspinas\"], \"254\": [\"Parham Aarabi\"], \"255\": [\"Jason A. Roy, Ph.D. \"], \"256\": [\"Richard Lambert\", \"Robert W. Holthausen\"], \"257\": [\"Sharad Borle\"], \"258\": [\"Kenny Wong\"], \"259\": [\"Govind Acharya\", \"Hunter Whitney\"], \"26\": [\"Avi Ma\\u2019ayan, PhD\"], \"260\": [\"Govind Acharya\", \"Hunter Whitney\"], \"261\": [\"Nguyen Gia Tuan\"], \"262\": [\"ChengXiang Zhai\"], \"263\": [\"\\u5b54\\u4ee4\\u5091\"], \"264\": [\"Kostas Daniilidis\", \"Jianbo Shi\"], \"265\": [\"Werner Krauth\"], \"266\": [\"Prof. Hossam Haick\"], \"267\": [\"Vladimir Lesnichenko\", \"Pavel Mezentsev \", \"Emeli Dral \", \"Alexey A. Dral\", \"Ilya Trofimov\", \"Evgeny Frolov\"], \"268\": [\"John McGready, PhD, MS\"], \"269\": [\"Sharad Borle\"], \"27\": [\"Jeff Leek, PhD\", \"Brian Caffo, PhD\", \"Roger D. Peng, PhD\"], \"270\": [\"Harinath Garudadri\", \"Ganz Chockalingam\"], \"271\": [\"Dan  Grossman\"], \"272\": [\"CJ Taylor\"], \"273\": [\"Dan Zhang\"], \"274\": [\"Hsuan-Tien Lin, \\u6797\\u8ed2\\u7530\"], \"275\": [\"Nick Santos\"], \"276\": [\"Min Song\"], \"277\": [\"Randy Hlavac\"], \"278\": [\"Nicolas Glady \"], \"279\": [\"\\u9b4f\\u5fd7\\u5e73\", \"\\u674e\\u6b63\\u570b\", \"\\u694a\\u7acb\\u5049\", \"\\u9673\\u5efa\\u9326\"], \"28\": [\"Bill Howe\"], \"280\": [\"Daniel Lee\"], \"281\": [\"Sharad Borle\"], \"282\": [\"Reza Farivar\", \"Roy H. Campbell\"], \"283\": [\"Michael D. Ekstrand\", \"Joseph A Konstan\"], \"284\": [\"Joseph A Konstan\", \"Michael D. Ekstrand\"], \"285\": [\"\\u8881\\u6625\\u98ce\"], \"286\": [\"Professor Wayne Winston\"], \"287\": [\"Wanling Qu\"], \"288\": [\"Dr. Julien Richard-Foy\"], \"289\": [\"Brian Caffo, PhD\"], \"29\": [\"Jeff Leek, PhD\", \"Roger D. Peng, PhD\", \"Brian Caffo, PhD\"], \"290\": [\"Daniel E. Koditschek\"], \"291\": [\"\\u5289\\u90a6\\u92d2 Pangfeng Liu\"], \"292\": [\"Megan Irvine\"], \"293\": [\"Sharad Borle\"], \"294\": [\"Michael Mannino\"], \"295\": [\"Parham Aarabi\"], \"296\": [\"Manuel Laguna\", \"Dan Zhang\", \"David Torgerson\"], \"297\": [\"Google Cloud Training\"], \"298\": [\"Andrei Ustyuzhanin\", \"Mikhail Hushchyn\"], \"299\": [\"Prof. Ming Zhang \\u5f20\\u94ed\"], \"3\": [\"Liliana Florea, PhD\"], \"30\": [\"Bill Howe\"], \"300\": [\"Rahul Rai\"], \"301\": [\"\\u9a86\\u658c\", \"\\u845b\\u5b63\\u680b\"], \"302\": [\"Fataneh Taghaboni-Dutta\"], \"303\": [\"Ganz Chockalingam\", \"Harinath Garudadri\"], \"304\": [\"David Archer\"], \"305\": [\"Richard Valliant, Ph.D.\"], \"306\": [\"\\u6797\\u6c9b\\u7fa4 (Pei-Chun Lin)\"], \"307\": [\"Anne Remke\"], \"308\": [\"James Z. Lee\"], \"309\": [\"Prof. \\u6c88\\u6674\\u9713 (Shen Qingni), Ph.D.\"], \"31\": [\"Bill Howe\"], \"310\": [\"Cameron Campbell\"], \"311\": [\"\\u5434 \\u5b81\"], \"312\": [\"\\u4e54\\u4e9a\\u7537\", \"\\u8c22\\u6d9b\", \"\\u5434 \\u5b81\"], \"313\": [\"Indranil Gupta\", \"Roy H. Campbell\", \"P. Brighten Godfrey\", \"Ankit Singla\"], \"314\": [\"Ian Harris\"], \"315\": [\"Phillip Compeau\", \"Pavel  Pevzner\"], \"316\": [\"Michael D. Ekstrand\", \"Joseph A Konstan\"], \"317\": [\"Merlise A Clyde\", \"Colin Rundel \", \"David Banks\", \"Mine \\u00c7etinkaya-Rundel\"], \"318\": [\"Rebekah May\"], \"319\": [\"Kostas Daniilidis\", \"Sid Deliwala\"], \"32\": [\"Ben Langmead, PhD\", \"Jacob Pritt\"], \"320\": [\"Michael Mannino\", \"Jahangir Karimi\"], \"321\": [\"James M Lepkowski\"], \"322\": [\"David Schweidel\"], \"323\": [\"David Schweidel\"], \"324\": [\"Arnaud De Bruyn\"], \"325\": [\"\\u5eb7\\u85dd\\u6643\"], \"326\": [\"\\u694a\\u8c37\\u6d0b\"], \"327\": [\"\\u6e38\\u5bf6\\u9054\"], \"328\": [\"\\u5510\\u9e97\\u82f1\"], \"329\": [\"\\u5510\\u9e97\\u82f1\"], \"33\": [\"Roger D. Peng, PhD\", \"Jeff Leek, PhD\", \"Brian Caffo, PhD\"], \"330\": [\"\\u5510\\u9e97\\u82f1\"], \"331\": [\"\\u5b6b\\u6625\\u5728\", \"\\u67ef\\u7dad\\u7136\"], \"332\": [\"\\u674e\\u535a\\u660e\"], \"333\": [\"\\u6e38\\u5bf6\\u9054\"], \"334\": [\"\\u5510\\u9e97\\u82f1\"], \"335\": [\"\\u5510\\u9e97\\u82f1\"], \"336\": [\"\\u5510\\u9e97\\u82f1\"], \"337\": [\"\\u5510\\u9e97\\u82f1\"], \"338\": [\"\\u5510\\u9e97\\u82f1\"], \"339\": [\"\\u5510\\u9e97\\u82f1\"], \"34\": [\"V. G. Vinod Vydiswaran\"], \"340\": [\"\\u838a\\u4ec1\\u8f1d\"], \"341\": [\"\\u4e8e\\u5929\\u7acb\"], \"342\": [\"\\u6eab\\u6dd1\\u60e0\", \"\\u738b\\u4ec1\\u5b8f\", \"\\u738b\\u9f61\\u8abc\", \"\\u8449\\u65e5\\u5f0c\", \"\\u8b1d\\u5b97\\u6210\"], \"343\": [\"\\u937e\\u658c\\u8ce2\"], \"344\": [\"\\u738b\\u4ec1\\u5b8f\", \"\\u6eab\\u6dd1\\u60e0\", \"\\u8b1d\\u5b97\\u6210\", \"\\u8449\\u65e5\\u5f0c\", \"\\u738b\\u9f61\\u8abc\"], \"345\": [\"\\u937e\\u658c\\u8ce2\"], \"346\": [\"\\u937e\\u658c\\u8ce2\"], \"347\": [\"\\u738b\\u5fd7\\u8ed2\"], \"348\": [\"\\u738b\\u7d93\\u7be4\", \"\\u4f55\\u627f\\u9060\"], \"349\": [\"\\u5b6b\\u6625\\u5728\", \"\\u67ef\\u7dad\\u7136\"], \"35\": [\"Christopher Brooks\"], \"350\": [\"\\u674e\\u535a\\u660e\"], \"351\": [\"\\u738b\\u7d93\\u7be4\", \"\\u4f55\\u627f\\u9060\"], \"352\": [\"\\u738b\\u5fd7\\u8ed2\"], \"353\": [\"\\u738b\\u5fd7\\u8ed2\"], \"354\": [\"\\u738b\\u5fd7\\u8ed2\"], \"355\": [], \"356\": [], \"357\": [], \"358\": [\"\\u4e8e\\u5929\\u7acb\"], \"359\": [\"\\u937e\\u658c\\u8ce2\"], \"36\": [\"Kevyn Collins-Thompson\"], \"360\": [\"\\u937e\\u658c\\u8ce2\"], \"361\": [\"\\u937e\\u658c\\u8ce2\"], \"362\": [\"Freund, Robert\", \"Rudin, Cynthia\", \"Vielma, Juan Pablo\"], \"363\": [\"Lozano-P\\u00e9rez, Tom\\u00e1s\", \"Kaelbling, Leslie\"], \"364\": \"Berwick, Robert\", \"365\": [\"Kuszmaul, Bradley\", \"Leiserson, Charles\", \"Bender, Michael\"], \"366\": [\"Abelson, Harold\", \"Greenspun, Philip\"], \"367\": \"Horn, Berthold\", \"368\": \"Kaashoek, Frans\", \"369\": [\"Herring, Thomas\", \"Hill, Chris\"], \"37\": [\"Brian Caffo, PhD\", \"Roger D. Peng, PhD\", \"Jeff Leek, PhD\"], \"370\": \"Demaine, Erik\", \"371\": \"Kessler, Andre\", \"372\": \"Sass, Lawrence\", \"373\": [\"Dewey Jr., C. Forbes\", \"Yu, Hanry\", \"Bhowmick, Sourav Saha\"], \"374\": \"Toomre, Alar\", \"375\": \"Koev, Plamen\", \"376\": \"Hoyt, Lorlene\", \"377\": \"Spielman, Daniel\", \"378\": \"Kelner, Jonathan\", \"379\": \"Khodor, Julia\", \"38\": [\"Alexander S. Kulikov\"], \"380\": [\"Keane PhD, Kyle\", \"Ringler MFA, Andrew\", \"Vrablic, Mark\", \"Gandhi, Abhinav\"], \"381\": [\"Ogunyemi, Omolola\", \"Zeng, Qing\", \"Boxwala, Aziz\"], \"382\": [\"Kohane, Isaac\", \"Ohno-Machado, Lucila\", \"Szolovits, Peter\", \"Vinterbo, Staal\"], \"383\": \"Williams, Brian Charles\", \"384\": \"Leveson, Nancy\", \"385\": [\"Bell, Ana\", \"Grimson, Eric\", \"Guttag, John\"], \"386\": [\"Poggio, Tomaso\", \"Kreiman, Gabriel \"], \"387\": [\"Moshkovitz, Dana\", \"Tidor, Bruce\"], \"388\": [\"Sun, Jie\", \"Freund, Robert\", \"Magnanti, Thomas\"], \"389\": \"Rigollet, Philippe\", \"39\": [\"Roger D. Peng, PhD\", \"Jeff Leek, PhD\", \"Brian Caffo, PhD\"], \"390\": [\"Ferreira, Joseph\", \"Hoyt, Lorlene\"], \"391\": \"Patel, Nitin\", \"392\": \"Carroll, John\", \"393\": \"Patera, Anthony T.\", \"394\": [\"Alterovitz, Gil\", \"Kellis, Manolis\", \"Ramoni, Marco\"], \"395\": \"\", \"396\": \"\", \"397\": \"Ernst, Michael\", \"398\": \"Golland, Polina\", \"399\": [\"Grimson, Eric\", \"Szolovits, Peter\", \"Darrell, Trevor\"], \"4\": [\"Jeff Leek, PhD\", \"Brian Caffo, PhD\", \"Roger D. Peng, PhD\"], \"40\": [\"Jeff Leek, PhD\", \"Roger D. Peng, PhD\", \"Brian Caffo, PhD\"], \"400\": \"Kellis, Manolis\", \"401\": [\"Kaelbling, Leslie\", \"Lozano-P\\u00e9rez, Tom\\u00e1s\"], \"402\": [\"Leighton, Tom\", \"Dijk, Marten van \"], \"403\": \"Guttag, John\", \"404\": [\"Demaine, Erik\", \"Devadas, Srini\"], \"405\": [\"Singh, Rohit\", \"Jaakkola, Tommi\", \"Mohammad, Ali\"], \"406\": [\"Kedia, Mihir\", \"Kishore, Aseem\"], \"407\": [\"Demaine, Erik\", \"Rivest, Ronald\", \"Devadas, Srini\"], \"408\": [\"Penfield, Paul\", \"Lloyd, Seth\"], \"409\": \"Goemans, Michel\", \"41\": [\"Brian Caffo, PhD\", \"Roger D. Peng, PhD\", \"Jeff Leek, PhD\"], \"410\": [\"Grimson, Eric\", \"Guttag, John\"], \"411\": [\"McCaffrey, Corey\", \"Paluska, Justin Mazzola\", \"Mendel, Lucy\", \"He, Ray\", \"Toscano, Robert\", \"Ostler, Scott\"], \"412\": [\"Emer, Joel\", \"Asanovic, Krste\", \"\"], \"413\": [\"Collins, Michael\", \"Barzilay, Regina\"], \"414\": \"Chandrakasan, Anantha\", \"415\": \"Winston, Patrick Henry\", \"416\": [\"Rabbah, Rodric\", \"Amarasinghe, Saman\"], \"417\": [\"Demaine, Erik\", \"Devadas, Srini\", \"Lynch, Nancy\"], \"418\": [\"Miller, Robert\", \"Goldman, Max\"], \"419\": [\"Frey, Daniel\", \"Larson, Richard C.\"], \"42\": [\"Daniel Romero\"], \"420\": [\"Vul, Ed\", \"Frank, Mike\"], \"421\": \"De Farias, Daniela Pucci\", \"422\": \"Evangelinos, Constantinos\", \"423\": \"Tedrake, Russell\", \"424\": \"Sussman, Gerald\", \"425\": [\"Jackson, Daniel\", \"Miller, Robert\"], \"426\": [\"Kang, Eunsuk\", \"Yang, Jean\"], \"427\": [\"Jones, Evan\", \"Marcus, Adam\", \"Wu, Eugene\"], \"428\": [\"Weller, Daniel\", \"Chikkerur, Sharat\"], \"429\": \"Lynch, Nancy\", \"43\": [\"Jeff Leek, PhD\", \"Brian Caffo, PhD\", \"Roger D. Peng, PhD\"], \"430\": \"Bertsimas, Dimitris\", \"431\": \"M\\u00e9dard, Muriel\", \"432\": \"Winston, Patrick Henry\", \"433\": [\"Dunietz, Jesse\", \"Kovacs, Geza\", \"Marrero, John\"], \"434\": \"Canelake, Sarina\", \"435\": [\"Madden, Samuel\", \"Morris, Robert\", \"Stonebraker, Michael\", \"Curino, Carlo\"], \"436\": \"Popovic, Jovan\", \"437\": \"Ernst, Michael\", \"438\": \"Winston, Patrick Henry\", \"439\": \"\", \"44\": [\"Martin Odersky\"], \"440\": [\"Troxel, Don\", \"Kirtley Jr., James L.\"], \"441\": \"Shah, Devavrat\", \"442\": [\"Rubinfeld, Ronitt\", \"Meyer, Albert R.\"], \"443\": \"Karger, David R.\", \"444\": [\"Leiserson, Charles\", \"Demaine, Erik\"], \"445\": [\"Hadjiconstantinou, Nicolas G.\", \"Patera, Anthony T.\"], \"446\": \"Johnson, Steven G.\", \"447\": \"Edelman, Alan\", \"448\": \"Farjoun, Yossi\", \"449\": [\"Ohno-Machado, Lucila\", \"Szolovits, Peter\"], \"45\": [\"Mia Minnes\", \"Leo Porter\", \"Christine Alvarado\"], \"450\": [\"Ohno-Machado, Lucila\", \"Vinterbo, Staal\"], \"451\": \"McLaughlin, Dennis\", \"452\": \"Amaratunga, Kevin\", \"453\": [\"Rudin, Cynthia\", \"Chang, Allison\", \"Bisias, Dimitrios\"], \"454\": \"Gloor, Peter\", \"455\": \"Rudin, Cynthia\", \"456\": \"Asada, Harry\", \"457\": [\"Williams, Brian Charles\", \"Frazzoli, Emilio\"], \"458\": \"Polyanskiy, Yury\", \"459\": [\"Marcus, Adam\", \"Wu, Eugene\"], \"46\": [\"Andrew D. Hilton\", \"Robert Duvall\", \"Owen Astrachan\", \"Susan H. Rodger\"], \"460\": \"Schmandt, Christopher\", \"461\": \"Raskar, Ramesh\", \"462\": \"Kocur, George\", \"463\": \"Donath, Judith\", \"464\": [\"Lieber, Tom\", \"Murray, Kyle\", \"Li, Frank\"], \"465\": \"Bandeira, Afonso\", \"466\": [\"Meyer, Albert R.\", \"Chlipala, Adam\"], \"467\": \"Adelson, Edward\", \"468\": [\"Rifkin, Ryan\", \"Mukherjee, Sayan\", \"Poggio, Tomaso\", \"Rakhlin, Alex\"], \"469\": [\"Heisele, Bernd\", \"Ivanov, Yuri\"], \"47\": [\"Leo Porter\", \"Mia Minnes\", \"Christine Alvarado\"], \"470\": \"Moitra, Ankur\", \"471\": \"Dumit, Joseph\", \"472\": \"Demaine, Erik\", \"473\": \"Panchenko, Dmitry\", \"474\": \"Lieberman, Henry\", \"475\": \"Breazeal, Cynthia\", \"476\": \"Morris, Robert\", \"477\": \"Kocur, George\", \"478\": [\"Grimson, Eric\", \"Guttag, John\", \"Bell, Ana\"], \"479\": \"\\u5289\\u5fd7\\u5c09\", \"48\": [\"Stephany Duda, PhD\", \"Paul Harris, PhD\"], \"480\": \"\\u95d5\\u6cb3\\u9cf4\", \"481\": \"\\u91d1\\u4ef2\\u9054\", \"482\": \"\\u5f35\\u4e16\\u6770\", \"483\": \"\\u8a31\\u96c5\\u4e09\", \"484\": \"\\u9673\\u5c11\\u5091\", \"485\": \"\\u91d1\\u4ef2\\u9054\", \"486\": \"\\u694a\\u4f73\\u73b2\", \"487\": \"\\u8881\\u8ce2\\u9298\", \"488\": \"\\u7530\\u4f2f\\u9686\", \"489\": \"\\u738b\\u5bb6\\u7965\", \"49\": [\"Roger D. Peng, PhD\", \"Brooke Anderson\"], \"490\": \"\\u90ed\\u5927\\u7dad\", \"491\": \"\\u859b\\u667a\\u6587\", \"492\": \"\\u9673\\u5efa\\u9326\", \"493\": \"\\u65bd\\u5409\\u6607\", \"494\": \"\\u5f35\\u7acb\\u5e73\", \"495\": \"\\u9673\\u5b9c\\u6b23\", \"496\": \"\\u5442\\u4ec1\\u78a9\", \"497\": \"\\u9673\\u5efa\\u9326\", \"498\": \"\\u984f\\u55e3\\u921e\", \"499\": \"\\u5f35\\u667a\\u661f\", \"5\": [\"Brian Caffo, PhD\", \"Jeff Leek, PhD\", \"Roger D. Peng, PhD\"], \"50\": [\"Roger D. Peng, PhD\", \"Brooke Anderson\"], \"500\": \"\\u8521\\u6b23\\u7a46\", \"501\": \"\\u97d3\\u6c38\\u6977\", \"502\": \"\\u738b\\u6631\\u821c\", \"503\": \"\\u9ec3\\u4e16\\u5f37\", \"504\": \"\\u9ec3\\u4fca\\u9f8d\", \"505\": \"\\u834a\\u5b87\\u6cf0\", \"506\": \"\\u694a\\u6b66\", \"507\": \"\\u5f35\\u5f4c\\u5f70\", \"508\": \"\\u4ea4\\u5927\\u9673\\u79cb\\u5a9b\", \"509\": \"\\u8521\\u76ca\\u5764\", \"51\": [\"Ge Li  \\u674e\\u6208, Ph.D.\"], \"510\": \"\\u674e\\u5efa\\u6a21\", \"511\": \"TIGP \", \"512\": \"\\u76e7\\u5b50\\u5f6c\", \"513\": \"\\u97d3\\u6c38\\u6977\", \"514\": \"\\u8521\\u932b\\u921e\", \"515\": \"\\u8521\\u5b5f\\u5b97\", \"516\": \"\\u4f59\\u4fca\\u5b8f\", \"517\": \"\\u65bd\\u4ec1\\u5fe0\", \"518\": \"\\u9ec3\\u5efa\\u8c6a\", \"519\": \"\\u738b\\u632f\\u7537\", \"52\": [\"Owen Astrachan\", \"Robert Duvall\", \"Andrew D. Hilton\", \"Susan H. Rodger\"], \"520\": \"\\u738b\\u632f\\u7537\", \"521\": \"\\u6851\\u6893\\u8ce2\", \"522\": \"\\u6797\\u5927\\u885b\", \"523\": \"\\u5433\\u9806\\u5409\", \"524\": \"\\u9ec3\\u4e7e\\u7db1\", \"525\": \"\\u9ec3\\u4e7e\\u7db1\", \"526\": \"\\u8b1d\\u5b8f\\u6600\", \"527\": \"\\u5468\\u4fca\\u5ef7\", \"528\": \"\\u8449\\u4e19\\u6210\", \"529\": \"\\u5f35\\u6642\\u4e2d\", \"53\": [\"Roger D. Peng, PhD\", \"Brooke Anderson\"], \"530\": \"\\u856d\\u5f97\\u8056\", \"531\": \"\\u9673\\u7a37\\u5eb7\", \"532\": \"\\u9ad8\\u69ae\\u9d3b\", \"533\": \"\\u8a31\\u79cb\\u5a77\", \"534\": \"\\u674e\\u7aef\\u8208\", \"535\": \"\\u674e\\u7948\\u5747\", \"536\": \"\\u8521\\u80b2\\u4ec1\", \"537\": \"\\u6797\\u5b88\\u5fb7\", \"538\": \"\\u6d2a\\u4e00\\u5e73\", \"539\": \"\\u8449\\u745e\\u5fbd\", \"54\": [\"Jong-Moon Chung\"], \"540\": \"\\u674e\\u4f73\\u7ff0\", \"541\": \"\\u9678\\u66c9\\u5cf0\", \"542\": \"\\u6797\\u6e05\\u5b89\", \"543\": \"\\u6797\\u6e90\\u500d\", \"544\": \"\\u76e7\\u5b97\\u6210\", \"545\": \"\\u5deb\\u6728\\u8aa0\", \"546\": \"\\u4f55\\u7121\\u5fcc\", \"547\": \"\\u6d2a\\u6587\\u826f\", \"548\": \"\\u7941\\u5fe0\\u52c7\", \"549\": \"\\u674e\\u96e8\\u9752\", \"55\": [\"Charles Severance\"], \"550\": \"\\u8521\\u5b5f\\u5091\", \"551\": \"\\u6797\\u60e0\\u82ac\", \"552\": \"\\u9673\\u9130\\u5b89\", \"553\": \"\\u9676\\u632f\\u8d85\", \"554\": \"\\u9673\\u5fd7\\u69ae\", \"555\": \"\\u5f6d\\u5357\\u592b\", \"556\": \"\\u4e01\\u5fd7\\u5805\", \"557\": \"\\u9ec3\\u79ae\\u73ca\", \"558\": \"\\u738b\\u7dad\\u83c1\", \"559\": \"\\u8b1d\\u570b\\u6587\", \"56\": [\"Ilkay Altintas\", \"Amarnath Gupta\"], \"560\": \"\\u5deb\\u4f73\\u714c\", \"561\": \"\\u5e25\\u5b8f\\u7ff0\", \"562\": \"\\u6c88\\u4e4b\\u6daf\", \"563\": \"\\u5289\\u5efa\\u826f\", \"564\": \"\\u5f6d\\u6587\\u5fd7\", \"565\": \"\\u7c21\\u9cf3\\u6751\", \"566\": \"\\u674e\\u4f73\\u7ff0\", \"567\": \"\\u674e\\u80b2\\u6770\", \"568\": \"\\u6d2a\\u745e\\u9d3b\", \"569\": \"\\u90b1\\u7dad\\u8fb0\", \"57\": [\"Akos Ledeczi\", \"Mike Fitzpatrick\"], \"570\": \"\\u9ec3\\u570b\\u6e90\", \"571\": \"\\u674e\\u6615\\u6f54\", \"572\": \"\\u674e\\u93ae\\u5b9c\", \"573\": \"\\u90ed\\u5cfb\\u56e0\", \"574\": \"\\u5f35\\u6dfb\\u70dc\", \"575\": \"\\u80e1\\u6bd3\\u5fd7\", \"576\": \"\\u738b\\u624d\\u6c9b\", \"577\": \"\\u5340\\u570b\\u826f\", \"578\": \"\\u738b\\u5fd7\\u8ed2\", \"579\": \"\\u7c21\\u4ec1\\u5b97\", \"58\": [\"Roger D. Peng, PhD\", \"Brooke Anderson\"], \"580\": \"\\u5f6d\\u6587\\u5b5d\", \"581\": \"\\u5433\\u6bc5\\u6210\", \"582\": \"\\u9673\\u6c38\\u6607\", \"583\": \"\\u8a31\\u6839\\u7389\", \"584\": \"\\u9ec3\\u570b\\u6e90\", \"585\": \"\\u8607\\u8c50\\u6587\", \"586\": \"\\u9673\\u7a4e\\u5e73\", \"587\": \"\\u5e25\\u5b8f\\u7ff0\", \"588\": \"\\u90b1\\u7dad\\u8fb0\", \"589\": \"\\u8607\\u9ece\", \"59\": [\"Nathan Leniz\", \"Kirby Kohlmorgen\"], \"590\": \"\\u4f55\\u4fe1\\u7469\", \"591\": \"\\u694a\\u9032\\u6728\", \"592\": \"\\u5b6b\\u5b8f\\u6c11\", \"593\": \"\\u6234\\u5929\\u6642\", \"594\": \"\\u9127\\u60e0\\u6587\", \"595\": \"\\u9673\\u5b89\\u658c\", \"596\": \"\\u9ec3\\u661f\\u83ef\", \"597\": \"\\u90ed\\u5bb6\\u8c6a\", \"598\": \"\\u8b1d\\u6587\\u826f\", \"599\": \"\\u5f6d\\u6587\\u5fd7\", \"6\": [\"Dr. Surya Kalidindi\"], \"60\": [\"David Wentzlaff \"], \"600\": \"\\u9ec3\\u4fca\\u9f8d\", \"601\": \"\\u8b1d\\u6587\\u826f\", \"602\": \"\\u8449\\u5ef7\\u4ec1\", \"603\": \"\\u738b\\u5b78\\u8aa0\", \"604\": \"\\u5b8b\\u958b\\u6cf0\", \"605\": [\"\\u694a\\u7dad\\u5be7\"], \"606\": [\"\\u8521\\u4ecb\\u5143\"], \"607\": [], \"608\": [], \"609\": [], \"61\": [\"Frank Gielen\"], \"610\": [], \"611\": [], \"612\": [], \"613\": [], \"614\": [], \"615\": [], \"616\": [], \"617\": [], \"618\": [], \"619\": [\"\\u6c5f\\u632f\\u745e\", \"\\u8521\\u5b97\\u7ff0\", \"\\u5f35\\u8cb4\\u96f2\", \"\\u912d\\u65ed\\u8a60\", \"\\u4f55\\u9326\\u6587\", \"\\u738b\\u5bb6\\u6176\"], \"62\": [\"Robert Duvall\", \"Owen Astrachan\", \"Andrew D. Hilton\", \"Susan H. Rodger\"], \"620\": [\"\\u9673\\u71d5\\u7f8e\"], \"621\": [\"\\u937e\\u658c\\u8ce2\"], \"622\": [\"\\u718a\\u535a\\u5b89\", \"\\u7f85\\u7fd2\\u4e94\"], \"623\": [\"\\u5f35\\u5b8f\\u7fa9\"], \"624\": [\"\\u738b\\u8c9e\\u6dd1\"], \"625\": [\"\\u675c\\u9038\\u5be7\"], \"626\": [\"\\u8972\\u5145\\u6587\"], \"627\": [\"\\u9673\\u745e\\u767c\"], \"628\": [\"\\u80e1\\u8a60\\u7fd4\"], \"629\": [], \"63\": [\"Ilkay Altintas\", \"Amarnath Gupta\"], \"630\": [], \"631\": [\"Michael Littman\"], \"632\": [\"Westley Weimer\"], \"633\": [\"Peter Norvig\", \"Sebastian Thrun\"], \"634\": [\"Sebastian Thrun\"], \"635\": [\"Kelly Vetter\", \"Sue Ann Austin\", \"Andy Brown\"], \"636\": [\"Sean Laraway\", \"Ronald Rogers\", \"Katie Kormanik\"], \"637\": [\"Sebastian Thrun\"], \"638\": [\"Steve Huffman\", \"Jessica Uelmen\", \"Cameron Pittman\", \"Kunal Chawla\", \"Andy Brown\", \"Dave Evans\"], \"639\": [\"Milos Prvulovic\", \"Catherine Gamboa\"], \"64\": [\"Charles Severance\"], \"640\": [], \"641\": [\"Kunal Chawla\"], \"642\": [\"Charles Brubaker\", \"Lance Fortnow\", \"Hariharan Venkateswaran\"], \"643\": [\"Mat Leonard\"], \"644\": [\"Jarrod Parkes\"], \"645\": [\"Gabrielle Miller-Messner\"], \"646\": [\"Jarrod Parkes\", \"Meghan Kane\"], \"647\": [\"Katie Malone\", \"Sebastian Thrun\"], \"648\": [\"Kishore Ramachandran\", \"Charles Brubaker\"], \"649\": [\"Derek Steer\"], \"65\": [\"Antonio Cangiano\"], \"650\": [\"Ronald Rogers\", \"Katie Kormanik\", \"Sean Laraway\"], \"651\": [\"Catherine Gamboa\"], \"652\": [\"Michael Littman\", \"Charles Isbell\", \"Pushkar Kolhe\"], \"653\": [\"Rich Vuduc\", \"Catherine Gamboa\"], \"654\": [\"Cezanne Camacho\", \"Asser Samak\"], \"655\": [\"Asser Samak\", \"James Williams\"], \"656\": [\"Richard Kalehoff\", \"James Parkes\"], \"657\": [\"Dave Holtz\", \"Cheng-Han Lee\"], \"658\": [\"Eric Vigoda\", \"Arpan Chakraborty\"], \"659\": [\"Arpan Chakraborty\"], \"66\": [\"Tim Roughgarden\"], \"660\": [\"Ashok Goel\", \"David Joyner\"], \"661\": [\"Tucker Balch\", \"Arpan Chakraborty\"], \"662\": [\"Ryan Orban\", \"Chris Saden\", \"Jonathan Dinu\"], \"663\": [\"Charles Isbell\", \"Michael Littman\", \"Chris Pryby\"], \"664\": [\"Vincent Vanhoucke\", \"Arpan Chakraborty\"], \"665\": [\"Charles Isbell\", \"Michael Littman\", \"Pushkar Kolhe\"], \"666\": [\"Jimeng Sun\", \"David Joyner\"], \"667\": [\"Julia Van Cleve\", \"James Parkes\"], \"668\": [\"Alex Orso\", \"Sarah Spikes\"], \"669\": [\"Aaron Bobick\", \"Irfan Essa\", \"Arpan Chakraborty\"], \"67\": [\"Matthew O. Jackson\"], \"670\": [\"Spencer Rugaber\", \"Eric Feron\", \"Jarrod Parkes\"], \"671\": [\"Gabrielle Miller-Messner\"], \"672\": [\"Ada Gavrilovska\", \"Jarrod Parkes\"], \"673\": [\"Chris Pryby\"], \"674\": [\"Thad Starner\"], \"675\": [\"\\u66fe\\u4ec1\\u6770\"], \"676\": [\"Ge Li  \\u674e\\u6208, Ph.D.\"], \"677\": [\"\\u5510\\u5927\\u4ed5\"], \"678\": [\"Jiaying Liu \\u5218\\u5bb6\\u745b, Ph.D.\", \"\\u90ed \\u709c\"], \"679\": [\"\\u5510\\u5927\\u4ed5\"], \"68\": [\"Scott Rixner\", \"Joe Warren\", \"Luay Nakhleh\"], \"680\": [\"\\u9ec3\\u80fd\\u5bcc\"], \"681\": [\"\\u4e8e\\u5929\\u7acb(Tian-Li,Yu)\"], \"682\": [\"\\u5434 \\u5b81\", \"\\u9648 \\u6587\\u9769\", \"\\u6768 \\u5fe0\\u5b5d\"], \"683\": [\"Long Huan \\u9f99\\u73af\"], \"684\": [\"\\u9648\\u658c\"], \"685\": [], \"686\": [], \"687\": [\"\\u55ae\\u7dad\\u5f70\"], \"688\": [\"\\u55ae\\u7dad\\u5f70\"], \"689\": [], \"69\": [\"Claire Mathieu\"], \"690\": [], \"691\": [\"Jiaying Liu \\u5218\\u5bb6\\u745b, Ph.D.\", \"\\u90ed \\u709c\"], \"692\": [\"\\u5b59\\u8273\\u6625\"], \"693\": [\"\\u738b\\u5fd7\\u8ed2\"], \"694\": [\"\\u674e\\u53cb\\u5c08\"], \"695\": [\"\\u4e8e\\u5929\\u7acb(Tian-Li,Yu)\"], \"696\": [\"\\u694a\\u671d\\u68df\"], \"697\": [\"\\u694a\\u671d\\u68df\"], \"698\": [\"\\u6218\\u5fb7\\u81e3\"], \"699\": [\"\\u6218\\u5fb7\\u81e3\"], \"7\": [\"Robert Sedgewick\", \"Kevin Wayne\"], \"70\": [\"Jan Friso Groote\"], \"700\": [\"\\u5434 \\u5b81\", \"\\u8c22\\u6d9b\", \"\\u8d75\\u82f1\\u826f\"], \"701\": [], \"702\": [\"\\u6797\\u695a\\u537f\"], \"703\": [], \"704\": [\"Unity Technologies\", \"Dustin Carroll\"], \"705\": \"Bertsekas, Dimitri\", \"706\": \"Bertsekas, Dimitri\", \"707\": \"Vandiver, Benjamin\", \"708\": [\"Dr. Tim \\\"Dr. T\\\" Chamillard\"], \"709\": [\"Unity Technologies\", \"Dustin Carroll\"], \"71\": [\"Professor Chen Xiangqun\"], \"710\": \"Mann, Maxwell\", \"711\": \"Endy, Andrew\", \"712\": [\"Duane Szafron\", \"Paul Lu\"], \"713\": [\"Juno Lee\"], \"714\": [\"Ian Harris\"], \"715\": [\"Aleks Haecky\", \"Sean McQuillan\", \"Asser Samak\"], \"716\": \"Vempala, Santosh\", \"717\": [\"Kenny Wong\"], \"718\": [\"Kenny Wong\"], \"719\": [\"Telethia Willis\"], \"72\": [\"\\u9646\\u4fca\\u6797\\uff08Lu Junlin\\uff09\"], \"720\": [\"Santosh Pande\", \"Catherine Gamboa\"], \"721\": [\"Mohamed Sarwat\"], \"722\": [\"Rinard, Martin\", \"Amarasinghe, Saman\"], \"723\": [\"Google Cloud Training\"], \"724\": [\"Kuszmaul, Bradley\", \"Leiserson, Charles\", \"Jing, Hsu Wen\", \"Bender, Michael\"], \"725\": [\"Charles Brubaker\"], \"726\": [\"Sean Kross\", \"Jeff Leek, PhD\", \"Brian Caffo, PhD\", \"Roger D. Peng, PhD\"], \"727\": [\"Albert Glock\"], \"728\": [\"Xiaobo Zhou\"], \"729\": [\"Shambhu Upadhyaya\"], \"73\": [\"Juan H Klopper\", \"Henri Laurie\"], \"730\": [\"Juha Plosila\"], \"731\": [\"Ganz Chockalingam\", \"Harinath Garudadri\"], \"732\": [\"Brynn Claypoole\", \"Horatio Thomas\"], \"733\": [\"Brynn Claypoole\", \"Horatio Thomas\"], \"734\": [\"Arpan Chakraborty\", \"Jimmy Lafontaine Rivera\"], \"735\": \"Karger, David R.\", \"736\": [\"Kasper Daniel Hansen, PhD\"], \"737\": [\"Joseph Santarcangelo\", \"Rav Ahuja\"], \"738\": [\"Alexander S. Kulikov\", \"Michael Levin\", \"Pavel  Pevzner\", \"Neil Rhodes\"], \"739\": [\"Dave Evans\"], \"74\": [\"Prof. Ming Zhang \\u5f20\\u94ed\"], \"740\": [\"Steven Salzberg, PhD\", \"Jeff Leek, PhD\"], \"741\": [\"Peter Norvig\"], \"742\": [\"Prof. Jimmy Ho Man Lee\", \"Prof. Peter James Stuckey\"], \"743\": \"Demaine, Erik\", \"744\": [\"Tidor, Bruce\", \"White, Jacob\"], \"745\": [\"Matusik, Wojciech\", \"Durand, Fr\\u00e9do\"], \"746\": [\"Alexander S. Kulikov\", \"Vladimir Podolskii\"], \"747\": [\"Bertsekas, Dimitri\", \"Modiano, Eytan\"], \"748\": [\"Frauke Kreuter, Ph.D.\", \"Frederick Conrad, Ph.D.\", \"James M Lepkowski\", \"Richard Valliant, Ph.D.\"], \"749\": [\"Robert Ghrist\"], \"75\": [\"Kevin Wayne\", \"Robert Sedgewick\"], \"750\": [\"Igor Halperin\"], \"751\": [\"Igor Halperin\"], \"752\": [\"Ronald Rogers\", \"Katie Kormanik\", \"Sean Laraway\"], \"753\": [\"Sergei Savin\", \"Senthil Veeraraghavan\"], \"754\": [\"Inez Zwetsloot\"], \"755\": [\"Dominik Scheder\"], \"756\": [\"Don Huesman\"], \"757\": [\"Romeo Kienzler\", \"Niketan Pansare\", \"Tom Hanlon\", \"Max Pumperla\", \"Ilja Rasin\"], \"758\": [\"Romeo Kienzler\", \"Nikolay Manchev\"], \"759\": [\"Sandra DeSousa\", \"Chris Saden\"], \"76\": [\"Dr. Tim \\\"Dr. T\\\" Chamillard\"], \"760\": [\"Guillermo Sapiro\"], \"761\": [\"Stefan Andreas Sperlich\", \"Juan Manuel Rodriguez Poo (in Partnership with UNIGE)\"], \"762\": [\"Annemarie Zand Scholten\"], \"763\": [\"John McGready, PhD, MS\"], \"764\": [\"Rav Ahuja\", \"Hima Vasudevan\"], \"765\": [\"Jeff Leek, PhD\", \"Roger D. Peng, PhD\", \"Brian Caffo, PhD\"], \"766\": [\"Alex Mannella\"], \"767\": [\"Darren Cook\"], \"768\": [\"Google Cloud Training\"], \"769\": [\"Autodesk Education\"], \"77\": [\"Robert Sedgewick\", \"Kevin Wayne\"], \"770\": [\"Google Cloud Training\"], \"771\": [\"Igor Halperin\"], \"772\": [\"Joseph Santarcangelo\"], \"773\": [\"Ortal Arel\"], \"774\": [\"Pavel  Pevzner\", \"Phillip Compeau\"], \"775\": [\"Robert Brunner\"], \"776\": [\"Suk S. Brar, M.B.A.\", \"Hunter Whitney\"], \"777\": [\"Alex Aklson\"], \"778\": [\"Ross Maciejewsk\"], \"779\": [\"Ross Maciejewsk\", \"K. Selcuk Candan\"], \"78\": [\"Daphne Koller\"], \"780\": [\"Brian Caffo, PhD\", \"Jeff Leek, PhD\", \"Roger D. Peng, PhD\"], \"781\": [\"Google Cloud Training\"], \"782\": [\"Rahul Rai\"], \"783\": [\"Ross Maciejewsk\", \"K. Selcuk Candan\"], \"784\": [\"Ross Maciejewsk\", \"Huan Liu\"], \"785\": [\"Daniel Egger\", \"Jana Schaich Borg\"], \"786\": [\"Mark Braunstein\", \"Matthew Cook\"], \"787\": [\"Google Cloud Training\"], \"788\": [], \"789\": [\"Pavel  Pevzner\", \"Phillip Compeau\"], \"79\": [\"Alexander S. Kulikov\", \"Michael Levin\", \"Daniel M Kane\", \"Neil Rhodes\"], \"790\": [\"Igor Halperin\"], \"791\": [\"Kevin Lynch\"], \"792\": [\"Brian Winn\"], \"793\": [\"Michael Mannino\"], \"794\": [\"Scott  Klemmer\"], \"795\": [\"Brian Winn\"], \"796\": [\"Ian Harris\"], \"797\": [\"Megan Irvine\"], \"798\": [\"Mohamed Sarwat\", \"Ming Zhao\"], \"799\": [\"David Torgerson\"], \"8\": [\"Alex Aklson\"], \"80\": [\"Prof. Peter James Stuckey\", \"Prof. Jimmy Ho Man Lee\"], \"800\": [\"Harinath Garudadri\", \"Ganz Chockalingam\"], \"801\": [\"Beth Simon\"], \"802\": [\"Pavel  Pevzner\", \"Phillip Compeau\"], \"803\": [\"Pavel  Pevzner\", \"Phillip Compeau\", \"Nikolay Vyahhi\"], \"804\": [\"Pavel  Pevzner\", \"Phillip Compeau\"], \"805\": [\"Lee Reiners, CFA\"], \"806\": [\"Autodesk Education\"], \"807\": [\"Sara Behdad\"], \"808\": [\"Ken English\"], \"809\": [\"Amy Moore\"], \"81\": [\"Prof. Jimmy Ho Man Lee\", \"Prof. Peter James Stuckey\"], \"810\": [\"Patrikalakis, Nicholas\", \"Maekawa, Takashi\"], \"811\": [\"Ankur Prasad\", \"Cezanne Camacho\"], \"812\": [\"Don Patterson\", \"Sam Kaufman\"], \"813\": \"Klopfer, Eric\", \"814\": [\"Peter Heinrich\", \"Jeremy Silver\"], \"815\": [\"Unity Technologies\", \"Dustin Carroll\"], \"816\": [\"Keane PhD, Kyle\", \"Ringler MFA, Andrew\", \"Gandhi, Abhinav\", \"Vrablic, Mark\"], \"817\": \"Rising, James\", \"818\": [\"Kevin Lynch\"], \"819\": [\"Kevin Lynch\"], \"82\": [\"Daphne Koller\"], \"820\": [\"Kevin Lynch\"], \"821\": [\"Jong-Moon Chung\"], \"822\": [\"Ganz Chockalingam\", \"Harinath Garudadri\"], \"823\": [\"Colt McAnlis\", \"Peter Lubbers\", \"Sean Bennett\"], \"824\": \"Nando de Freitas\", \"825\": \"Phil Blunsom\", \"83\": [\"Shimon Schocken\"], \"84\": [\"Daphne Koller\"], \"85\": [\"Claire Mathieu\"], \"86\": [\"Scott Rixner\", \"Joe Warren\", \"Luay Nakhleh\"], \"87\": [\"Martin Odersky\"], \"88\": [\"Alexander S. Kulikov\", \"Michael Levin\", \"Neil Rhodes\", \"Pavel  Pevzner\", \"Daniel M Kane\"], \"89\": [\"Andrew D. Hilton\", \"Anne Bracy\", \"Genevieve M. Lipp\", \"Liz Wendland\"], \"9\": [\"H.V. Jagadish\"], \"90\": [\"Sergei Obiedkov \"], \"91\": [\"John Greiner\", \"Stephen Wong\", \"Scott Rixner\", \"Joe Warren\"], \"92\": [\"Google Cloud Training\"], \"93\": [\"Dr. Jerry Roth\", \"Dr. Julie L. Johnson\", \"Michael Walker\", \"Dr. Douglas C. Schmidt\"], \"94\": [\"Jennifer Campbell\", \"Paul Gries\"], \"95\": [\"Isabelle Bichindaritz\"], \"96\": [\"Alexander S. Kulikov\", \"Michael Levin\", \"Pavel  Pevzner\", \"Neil Rhodes\"], \"97\": [\"Dr. Adam Porter\"], \"98\": [\"Andrew D. Hilton\", \"Genevieve M. Lipp\", \"Anne Bracy\"], \"99\": [\"Google Cloud Training\"]}\n"
     ]
    }
   ],
   "source": [
    "file = open('Author.json')\n",
    "json_str = file.read()\n",
    "json_data = json.loads(json_str)\n",
    "print(json_data)"
   ]
  },
  {
   "cell_type": "code",
   "execution_count": 1,
   "metadata": {},
   "outputs": [
    {
     "data": {
      "text/html": [
       "<div>\n",
       "<style scoped>\n",
       "    .dataframe tbody tr th:only-of-type {\n",
       "        vertical-align: middle;\n",
       "    }\n",
       "\n",
       "    .dataframe tbody tr th {\n",
       "        vertical-align: top;\n",
       "    }\n",
       "\n",
       "    .dataframe thead th {\n",
       "        text-align: right;\n",
       "    }\n",
       "</style>\n",
       "<table border=\"1\" class=\"dataframe\">\n",
       "  <thead>\n",
       "    <tr style=\"text-align: right;\">\n",
       "      <th></th>\n",
       "      <th>Author</th>\n",
       "      <th>Description</th>\n",
       "      <th>DirectLink</th>\n",
       "      <th>Language</th>\n",
       "      <th>PhotoLink</th>\n",
       "      <th>Provider</th>\n",
       "      <th>Title</th>\n",
       "      <th>WeekSection</th>\n",
       "      <th>Knowledge</th>\n",
       "    </tr>\n",
       "  </thead>\n",
       "  <tbody>\n",
       "    <tr>\n",
       "      <th>0</th>\n",
       "      <td>[Andrew Ng]</td>\n",
       "      <td>Machine learning is the science of getting com...</td>\n",
       "      <td>https://www.coursera.org/learn/machine-learning</td>\n",
       "      <td>EN</td>\n",
       "      <td>https://d3njjcbhbojbot.cloudfront.net/api/util...</td>\n",
       "      <td>Coursera</td>\n",
       "      <td>Machine Learning</td>\n",
       "      <td>[{'name': 'Introduction', 'description': 'Welc...</td>\n",
       "      <td>[machine learning, neural networks, linear reg...</td>\n",
       "    </tr>\n",
       "    <tr>\n",
       "      <th>1</th>\n",
       "      <td>[ZHANG Li]</td>\n",
       "      <td>本课程 (Please click Ｕ for English version) 主要面向非...</td>\n",
       "      <td>https://www.coursera.org/learn/hipython</td>\n",
       "      <td>CH</td>\n",
       "      <td>https://d3njjcbhbojbot.cloudfront.net/api/util...</td>\n",
       "      <td>Coursera</td>\n",
       "      <td>用Python玩转数据 Data Processing Using Python</td>\n",
       "      <td>[{'name': '欢迎学习《用Python玩转数据》Welcome', 'descrip...</td>\n",
       "      <td>[]</td>\n",
       "    </tr>\n",
       "    <tr>\n",
       "      <th>10</th>\n",
       "      <td>[Jeff Leek, PhD]</td>\n",
       "      <td>An introduction to the statistics behind the m...</td>\n",
       "      <td>https://www.coursera.org/learn/statistical-gen...</td>\n",
       "      <td>EN</td>\n",
       "      <td>https://d3njjcbhbojbot.cloudfront.net/api/util...</td>\n",
       "      <td>Coursera</td>\n",
       "      <td>Statistics for Genomic Data Science</td>\n",
       "      <td>[{'name': 'Module 1', 'description': 'This cou...</td>\n",
       "      <td>[]</td>\n",
       "    </tr>\n",
       "    <tr>\n",
       "      <th>100</th>\n",
       "      <td>[Google Cloud Training]</td>\n",
       "      <td>&gt;&gt;&gt; By enrolling in this course you agree to t...</td>\n",
       "      <td>https://www.coursera.org/learn/gcp-infrastruct...</td>\n",
       "      <td>EN</td>\n",
       "      <td>https://d3njjcbhbojbot.cloudfront.net/api/util...</td>\n",
       "      <td>Coursera</td>\n",
       "      <td>Elastic Cloud Infrastructure: Scaling and Auto...</td>\n",
       "      <td>[{'name': 'Welcome to Elastic Cloud Infrastruc...</td>\n",
       "      <td>[module infrastructure, infrastructure automat...</td>\n",
       "    </tr>\n",
       "    <tr>\n",
       "      <th>101</th>\n",
       "      <td>[Dan  Grossman]</td>\n",
       "      <td>This course is an introduction to the basic co...</td>\n",
       "      <td>https://www.coursera.org/learn/programming-lan...</td>\n",
       "      <td>EN</td>\n",
       "      <td>https://d3njjcbhbojbot.cloudfront.net/api/util...</td>\n",
       "      <td>Coursera</td>\n",
       "      <td>Programming Languages, Part A</td>\n",
       "      <td>[{'name': 'Introduction and Course-Wide Inform...</td>\n",
       "      <td>[software installation, course wide, wide info...</td>\n",
       "    </tr>\n",
       "  </tbody>\n",
       "</table>\n",
       "</div>"
      ],
      "text/plain": [
       "                      Author  \\\n",
       "0                [Andrew Ng]   \n",
       "1                 [ZHANG Li]   \n",
       "10          [Jeff Leek, PhD]   \n",
       "100  [Google Cloud Training]   \n",
       "101          [Dan  Grossman]   \n",
       "\n",
       "                                           Description  \\\n",
       "0    Machine learning is the science of getting com...   \n",
       "1    本课程 (Please click Ｕ for English version) 主要面向非...   \n",
       "10   An introduction to the statistics behind the m...   \n",
       "100  >>> By enrolling in this course you agree to t...   \n",
       "101  This course is an introduction to the basic co...   \n",
       "\n",
       "                                            DirectLink Language  \\\n",
       "0      https://www.coursera.org/learn/machine-learning       EN   \n",
       "1              https://www.coursera.org/learn/hipython       CH   \n",
       "10   https://www.coursera.org/learn/statistical-gen...       EN   \n",
       "100  https://www.coursera.org/learn/gcp-infrastruct...       EN   \n",
       "101  https://www.coursera.org/learn/programming-lan...       EN   \n",
       "\n",
       "                                             PhotoLink  Provider  \\\n",
       "0    https://d3njjcbhbojbot.cloudfront.net/api/util...  Coursera   \n",
       "1    https://d3njjcbhbojbot.cloudfront.net/api/util...  Coursera   \n",
       "10   https://d3njjcbhbojbot.cloudfront.net/api/util...  Coursera   \n",
       "100  https://d3njjcbhbojbot.cloudfront.net/api/util...  Coursera   \n",
       "101  https://d3njjcbhbojbot.cloudfront.net/api/util...  Coursera   \n",
       "\n",
       "                                                 Title  \\\n",
       "0                                     Machine Learning   \n",
       "1             用Python玩转数据 Data Processing Using Python   \n",
       "10                 Statistics for Genomic Data Science   \n",
       "100  Elastic Cloud Infrastructure: Scaling and Auto...   \n",
       "101                      Programming Languages, Part A   \n",
       "\n",
       "                                           WeekSection  \\\n",
       "0    [{'name': 'Introduction', 'description': 'Welc...   \n",
       "1    [{'name': '欢迎学习《用Python玩转数据》Welcome', 'descrip...   \n",
       "10   [{'name': 'Module 1', 'description': 'This cou...   \n",
       "100  [{'name': 'Welcome to Elastic Cloud Infrastruc...   \n",
       "101  [{'name': 'Introduction and Course-Wide Inform...   \n",
       "\n",
       "                                             Knowledge  \n",
       "0    [machine learning, neural networks, linear reg...  \n",
       "1                                                   []  \n",
       "10                                                  []  \n",
       "100  [module infrastructure, infrastructure automat...  \n",
       "101  [software installation, course wide, wide info...  "
      ]
     },
     "execution_count": 1,
     "metadata": {},
     "output_type": "execute_result"
    }
   ],
   "source": [
    "import pandas as pd\n",
    "df = pd.read_json('adb_courses.json')\n",
    "df.head()"
   ]
  },
  {
   "cell_type": "code",
   "execution_count": null,
   "metadata": {},
   "outputs": [],
   "source": []
  }
 ],
 "metadata": {
  "kernelspec": {
   "display_name": "Python 3",
   "language": "python",
   "name": "python3"
  },
  "language_info": {
   "codemirror_mode": {
    "name": "ipython",
    "version": 3
   },
   "file_extension": ".py",
   "mimetype": "text/x-python",
   "name": "python",
   "nbconvert_exporter": "python",
   "pygments_lexer": "ipython3",
   "version": "3.7.5"
  }
 },
 "nbformat": 4,
 "nbformat_minor": 2
}
