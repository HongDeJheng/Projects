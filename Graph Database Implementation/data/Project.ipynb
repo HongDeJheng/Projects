{
 "cells": [
  {
   "cell_type": "code",
   "execution_count": 1,
   "metadata": {},
   "outputs": [],
   "source": [
    "#建立連結\n",
    "from py2neo import  Graph, Node, Relationship, NodeMatcher, RelationshipMatcher\n",
    "graph = Graph(scheme=\"bolt\", host=\"localhost\", port=7687,secure=True, auth=('shao', 'shao')) #auth改成自己的帳密"
   ]
  },
  {
   "cell_type": "code",
   "execution_count": 2,
   "metadata": {},
   "outputs": [],
   "source": [
    "#建立Course Node\n",
    "with open(\"./Course_noIntro.csv\", \"r\",encoding='big5') as f:\n",
    "    content = f.readlines()\n",
    "    for index, c in enumerate(content):\n",
    "        if(index==0):\n",
    "            continue\n",
    "        ClassName,ClassID,ClassData,ClassPre,ClassStop,ClassTeacher,ClassSchool=c.split(\",\")\n",
    "        ClassName=ClassName.strip()\n",
    "        node=Node(\"Courses\",name=ClassName,ID=ClassID,data=ClassData,pre=ClassPre,stop=ClassStop,teacher=ClassTeacher,school=ClassSchool.replace('\\n', ''))\n",
    "        graph.create(node)"
   ]
  },
  {
   "cell_type": "code",
   "execution_count": 3,
   "metadata": {},
   "outputs": [],
   "source": [
    "#建立Professor Node\n",
    "with open(\"./Professor.csv\", \"r\",encoding='big5') as f:\n",
    "    content = f.readlines()\n",
    "    for index, c in enumerate(content):\n",
    "        if(index==0):\n",
    "            continue\n",
    "        professorID, professorName, professorDepartment,professorSchool = c.split(\",\")\n",
    "        node=Node(\"Professors\",name=professorName,ID=professorID,Department=professorDepartment,School=professorSchool.replace('\\n',''))\n",
    "        graph.create(node)"
   ]
  },
  {
   "cell_type": "code",
   "execution_count": 4,
   "metadata": {},
   "outputs": [],
   "source": [
    "#建立Student Node\n",
    "with open(\"./OnlyStudent.csv\", \"r\",encoding='big5') as f:\n",
    "    content = f.readlines()\n",
    "    for index, c in enumerate(content):\n",
    "        if(index==0):\n",
    "            continue\n",
    "        StudentID, StudentName = c.split(\",\")\n",
    "        StudentName=StudentName.rstrip()\n",
    "        node=Node(\"Students\",name=StudentName,ID=StudentID,password=\"000000\")\n",
    "        graph.create(node)"
   ]
  },
  {
   "cell_type": "code",
   "execution_count": 5,
   "metadata": {},
   "outputs": [],
   "source": [
    "#建立Courses Relation\n",
    "with open(\"./Course_noIntro.csv\", \"r\",encoding='big5') as f:\n",
    "    content = f.readlines()\n",
    "    for index, c in enumerate(content):\n",
    "        if(index==0):\n",
    "            continue\n",
    "        ClassName,ClassID,ClassData,ClassPre,ClassStop,ClassTeacher,ClassSchool=c.split(\",\")\n",
    "        #先修\n",
    "        PreClass=[]\n",
    "        eachPreClass=ClassPre.split(\"、\")\n",
    "        for i in eachPreClass:\n",
    "            if(len(i)<3):\n",
    "                break\n",
    "            PreClass.append(i)\n",
    "        #擋修\n",
    "        StopClass=[]\n",
    "        eachClass=ClassStop.split(\"、\")\n",
    "        for i in eachClass:\n",
    "            if(len(i)<3):\n",
    "                break\n",
    "            StopClass.append(i)\n",
    "        \n",
    "        matcher = NodeMatcher(graph)\n",
    "        #處理先修\n",
    "        for i in PreClass:     \n",
    "            existing_u1 = matcher.match(\"Courses\", name=ClassName).first()\n",
    "            existing_u2 = matcher.match(\"Courses\", name=i).first()\n",
    "            existing_u1_pre_u2 = Relationship(existing_u1, '先修', existing_u2)\n",
    "            graph.create(existing_u1_pre_u2)\n",
    "        #處理擋修\n",
    "        for i in StopClass:\n",
    "            existing_u1 = matcher.match(\"Courses\", name=ClassName).first()\n",
    "            existing_u2 = matcher.match(\"Courses\", name=i).first()\n",
    "            existing_u1_stop_u2 = Relationship(existing_u1, '擋修', existing_u2)\n",
    "            graph.create(existing_u1_stop_u2)\n",
    "        #處理教授\n",
    "        existing_u1 = matcher.match(\"Professors\", name=ClassTeacher).first()\n",
    "        existing_u2 = matcher.match(\"Courses\", teacher=ClassTeacher)\n",
    "        result = list(existing_u2) \n",
    "        for i in range(len(result)):\n",
    "            existing_u1_teach_u2 = Relationship(existing_u1, '教', result[i])\n",
    "            graph.create(existing_u1_teach_u2)"
   ]
  },
  {
   "cell_type": "code",
   "execution_count": 6,
   "metadata": {},
   "outputs": [],
   "source": [
    "#建立Student Relation\n",
    "with open(\"./Student.csv\", \"r\",encoding='big5') as f:\n",
    "    content = f.readlines()\n",
    "    for index, c in enumerate(content):\n",
    "        if(index==0):\n",
    "            continue\n",
    "        StudentID, StudentName, ClassName, ClassTime, StudentSchool = c.split(\",\")\n",
    "        StudentName=StudentName.rstrip()\n",
    "        ClassName=ClassName.rstrip()\n",
    "        existing_u1 = matcher.match(\"Students\", name = StudentName).first()\n",
    "        existing_u2 = matcher.match(\"Courses\", name = ClassName).first()  \n",
    "        existing_u1_teach_u2 = Relationship(existing_u1, '修', existing_u2,date=ClassTime)\n",
    "        graph.create(existing_u1_teach_u2)"
   ]
  },
  {
   "cell_type": "code",
   "execution_count": null,
   "metadata": {},
   "outputs": [
    {
     "name": "stdout",
     "output_type": "stream",
     "text": [
      "請輸入對應號碼(0為基本查詢,1為進階查詢,2為使用者相關,其他則跳出系統):0\n",
      "請輸入查詢類型(0為課程名稱查詢,1為教授查詢,2為學生查詢,其他則回到上一層)：2\n",
      "請輸入查詢學生姓名:楚留香\n",
      "學生學號:10000064\n",
      "學生姓名:楚留香\n",
      "已修課程:物件導向程式設計,物件導向設計,計算機程式設計,計算機程式設計實習,計算機概論,離散數學\n"
     ]
    }
   ],
   "source": [
    "\n",
    "\n",
    "while(1):\n",
    "    getNumber=input(\"請輸入對應號碼(0為基本查詢,1為進階查詢,2為使用者相關,其他則跳出系統):\")\n",
    "    if(getNumber==\"0\"):\n",
    "        getInner=input(\"請輸入查詢類型(0為課程名稱查詢,1為教授查詢,2為學生查詢,其他則回到上一層)：\")\n",
    "        if(getInner==\"0\"):\n",
    "            getName=input(\"請輸入查詢課程名稱:\")\n",
    "            getName=getName.strip()\n",
    "            existing_u1 = matcher.match(\"Courses\", name = getName).first()\n",
    "            print('課程代碼:' + existing_u1['ID'])\n",
    "            print('課程名稱:' + existing_u1['name'])\n",
    "            print('課程網頁:' + existing_u1['data'])\n",
    "            print('先修課程:' + existing_u1['pre'])\n",
    "            print('擋修課程:' + existing_u1['stop'])\n",
    "            print('上課教授:' + existing_u1['teacher'])\n",
    "            print('授課學校:' + existing_u1['school'])\n",
    "        elif(getInner==\"1\"):\n",
    "            getName=input(\"請輸入查詢教授姓名:\")\n",
    "            getName=getName.strip()  \n",
    "            existing_u1 = matcher.match(\"Professors\", name = getName).first()\n",
    "            tempList=\"\"\n",
    "            for rel in (graph.match((existing_u1, None), \"教\")):\n",
    "                if(tempList==\"\"):\n",
    "                    tempList=tempList+rel.end_node['name']\n",
    "                else:\n",
    "                    tempList=tempList+','+rel.end_node['name']                    \n",
    "            print(\"教授代碼:\" + existing_u1['ID'])  \n",
    "            print(\"教授姓名:\" + existing_u1['name']) \n",
    "            print(\"教授學校:\" + existing_u1['School'])\n",
    "            print(\"學校部門:\" + existing_u1['Department']) \n",
    "            print(\"教授課程:\" + str(tempList))\n",
    "        elif(getInner==\"2\"):\n",
    "            getName=input(\"請輸入查詢學生姓名:\")\n",
    "            getName=getName.strip()  \n",
    "            existing_u1 = matcher.match(\"Students\", name = getName).first()\n",
    "            tempList=\"\"\n",
    "            for rel in (graph.match((existing_u1, None), \"修\")):\n",
    "                if(tempList==\"\"):\n",
    "                    tempList=tempList+rel.end_node['name']\n",
    "                else:\n",
    "                    tempList=tempList+','+rel.end_node['name']\n",
    "            print(\"學生學號:\" + existing_u1['ID'])\n",
    "            print(\"學生姓名:\" + existing_u1['name'])\n",
    "            print(\"已修課程:\" + str(tempList))\n",
    "    elif(getNumber==\"1\"):\n",
    "        getInner=input(\"請輸入查詢類型(0為查詢系列課程先修、擋修,1為查詢該堂修課學生,2為學生查詢,其他則回到上一層)：\")\n",
    "        print('進階查詢')\n",
    "    elif(getNumber==\"2\"):\n",
    "        print('使用者相關')\n",
    "    else:\n",
    "        break"
   ]
  },
  {
   "cell_type": "code",
   "execution_count": null,
   "metadata": {},
   "outputs": [],
   "source": []
  },
  {
   "cell_type": "code",
   "execution_count": null,
   "metadata": {},
   "outputs": [],
   "source": []
  }
 ],
 "metadata": {
  "kernelspec": {
   "display_name": "Python 3",
   "language": "python",
   "name": "python3"
  },
  "language_info": {
   "codemirror_mode": {
    "name": "ipython",
    "version": 3
   },
   "file_extension": ".py",
   "mimetype": "text/x-python",
   "name": "python",
   "nbconvert_exporter": "python",
   "pygments_lexer": "ipython3",
   "version": "3.7.5"
  }
 },
 "nbformat": 4,
 "nbformat_minor": 2
}
