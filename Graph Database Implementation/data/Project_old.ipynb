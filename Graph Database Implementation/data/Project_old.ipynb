{
 "cells": [
  {
   "cell_type": "code",
   "execution_count": 1,
   "metadata": {},
   "outputs": [],
   "source": [
    "#建立連結\n",
    "from py2neo import  Graph, Node, Relationship, NodeMatcher\n",
    "graph = Graph(scheme=\"bolt\", host=\"localhost\", port=7687, secure = False) #auth改成自己的帳密"
   ]
  },
  {
   "cell_type": "code",
   "execution_count": 2,
   "metadata": {},
   "outputs": [],
   "source": [
    "#建立Course Node\n",
    "with open(\"./Course_noIntro.csv\", \"r\",encoding='big5') as f:\n",
    "    content = f.readlines()\n",
    "    for index, c in enumerate(content):\n",
    "        if(index==0):\n",
    "            continue\n",
    "        ClassName,ClassID,ClassData,ClassPre,ClassStop,ClassTeacher,ClassSchool=c.split(\",\")\n",
    "        ClassName=ClassName.strip()\n",
    "        node=Node(\"Courses\",name=ClassName,ID=ClassID,data=ClassData,pre=ClassPre,stop=ClassStop,teacher=ClassTeacher,school=ClassSchool)\n",
    "        graph.create(node)"
   ]
  },
  {
   "cell_type": "code",
   "execution_count": 3,
   "metadata": {},
   "outputs": [],
   "source": [
    "#建立Professor Node\n",
    "with open(\"./Professor.csv\", \"r\",encoding='big5') as f:\n",
    "    content = f.readlines()\n",
    "    for index, c in enumerate(content):\n",
    "        if(index==0):\n",
    "            continue\n",
    "        professorID, professorName, professorDepartment,professorSchool = c.split(\",\")\n",
    "        node=Node(\"Professors\",name=professorName,ID=professorID,Department=professorDepartment,School=professorSchool)\n",
    "        graph.create(node)"
   ]
  },
  {
   "cell_type": "code",
   "execution_count": 4,
   "metadata": {},
   "outputs": [],
   "source": [
    "#建立Student Node\n",
    "with open(\"./OnlyStudent.csv\", \"r\",encoding='big5') as f:\n",
    "    content = f.readlines()\n",
    "    for index, c in enumerate(content):\n",
    "        if(index==0):\n",
    "            continue\n",
    "        StudentID, StudentName = c.split(\",\")\n",
    "        StudentName = StudentName.rstrip()\n",
    "        node=Node(\"Students\",name=StudentName,ID=StudentID, password=\"000000\")\n",
    "        graph.create(node)"
   ]
  },
  {
   "cell_type": "code",
   "execution_count": 7,
   "metadata": {},
   "outputs": [],
   "source": [
    "#建立Courses Relation\n",
    "with open(\"./Course_noIntro.csv\", \"r\",encoding='big5') as f:\n",
    "    content = f.readlines()\n",
    "    for index, c in enumerate(content):\n",
    "        if(index==0):\n",
    "            continue\n",
    "        ClassName,ClassID,ClassData,ClassPre,ClassStop,ClassTeacher,ClassSchool=c.split(\",\")\n",
    "        #先修\n",
    "        PreClass=[]\n",
    "        eachPreClass=ClassPre.split(\"、\")\n",
    "        for i in eachPreClass:\n",
    "            if(len(i)<3):\n",
    "                break\n",
    "            PreClass.append(i)\n",
    "        #擋修\n",
    "        StopClass=[]\n",
    "        eachClass=ClassStop.split(\"、\")\n",
    "        for i in eachClass:\n",
    "            if(len(i)<3):\n",
    "                break\n",
    "            StopClass.append(i)\n",
    "        \n",
    "        matcher = NodeMatcher(graph)\n",
    "        #處理先修\n",
    "        for i in PreClass:     \n",
    "            existing_u1 = matcher.match(\"Courses\", name=ClassName).first()\n",
    "            existing_u2 = matcher.match(\"Courses\", name=i).first()\n",
    "            existing_u1_pre_u2 = Relationship(existing_u1, '先修', existing_u2)\n",
    "            graph.create(existing_u1_pre_u2)\n",
    "        #處理擋修\n",
    "        for i in StopClass:\n",
    "            existing_u1 = matcher.match(\"Courses\", name=ClassName).first()\n",
    "            existing_u2 = matcher.match(\"Courses\", name=i).first()\n",
    "            existing_u1_stop_u2 = Relationship(existing_u1, '擋修', existing_u2)\n",
    "            graph.create(existing_u1_stop_u2)\n",
    "        #處理教授\n",
    "        existing_u1 = matcher.match(\"Professors\", name=ClassTeacher).first()\n",
    "        existing_u2 = matcher.match(\"Courses\", teacher=ClassTeacher)\n",
    "        result = list(existing_u2)\n",
    "        for i in range(len(result)):\n",
    "            existing_u1_teach_u2 = Relationship(existing_u1, '教', result[i])\n",
    "            graph.create(existing_u1_teach_u2)"
   ]
  },
  {
   "cell_type": "code",
   "execution_count": 8,
   "metadata": {},
   "outputs": [],
   "source": [
    "#建立Student Relation\n",
    "with open(\"./Student.csv\", \"r\",encoding='big5') as f:\n",
    "    content = f.readlines()\n",
    "    for index, c in enumerate(content):\n",
    "        if(index==0):\n",
    "            continue\n",
    "        StudentID, StudentName, ClassName, ClassTime, StudentSchool = c.split(\",\")\n",
    "        StudentName=StudentName.rstrip()\n",
    "        ClassName=ClassName.rstrip()\n",
    "        existing_u1 = matcher.match(\"Students\", name = StudentName).first()\n",
    "        existing_u2 = matcher.match(\"Courses\", name = ClassName)  \n",
    "        existing_u1_teach_u2 = Relationship(existing_u1, '修', existing_u2, taken_time = ClassTime)\n",
    "        graph.create(existing_u1_teach_u2)"
   ]
  },
  {
   "cell_type": "code",
   "execution_count": null,
   "metadata": {},
   "outputs": [],
   "source": []
  }
 ],
 "metadata": {
  "kernelspec": {
   "display_name": "Python 3",
   "language": "python",
   "name": "python3"
  }
 },
 "nbformat": 4,
 "nbformat_minor": 2
}
